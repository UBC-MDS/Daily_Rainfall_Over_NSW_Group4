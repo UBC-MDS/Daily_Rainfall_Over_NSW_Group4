{
 "cells": [
  {
   "cell_type": "markdown",
   "id": "a4389f2e-a9fc-4256-b06c-8c6b40bcdc3f",
   "metadata": {},
   "source": [
    "## Pandas Exchange"
   ]
  },
  {
   "cell_type": "code",
   "execution_count": 9,
   "id": "dd38688e-9634-45e4-80c6-a991d4558d52",
   "metadata": {},
   "outputs": [
    {
     "name": "stderr",
     "output_type": "stream",
     "text": [
      "UsageError: Cell magic `%%memit` not found.\n"
     ]
    }
   ],
   "source": [
    "%%time\n",
    "%%memit\n",
    "#simple pandas: read the entire dataset into memory\n",
    "df = pd.read_csv(\"../data/combined_data.csv\")"
   ]
  },
  {
   "cell_type": "code",
   "execution_count": 10,
   "id": "b4289e09-41fa-4d48-bbc4-e82837cd9ba0",
   "metadata": {},
   "outputs": [],
   "source": [
    "##Comment out the pandas exchange due to memory limitation.\n",
    "#%%time\n",
    "#%%R -i df\n",
    "### Transferring the python dataframe to R\n",
    "#start_time <- Sys.time()\n",
    "#library(dplyr)\n",
    "#print(class(df))\n",
    "#result <- df %>% count(model)\n",
    "#print(result)\n",
    "#end_time <- Sys.time()\n",
    "#print(end_time - start_time)\n"
   ]
  },
  {
   "cell_type": "markdown",
   "id": "81eb3176-e72d-4e6f-859b-03081c7d774b",
   "metadata": {},
   "source": [
    "This doesn't work because our laptop doesn't seem to have enough memory, probably because we need to open two large dataframes (in python and R) at the same time. This doesn't seem like a good way to pass large dataframes from python to R. We believe that the cause of this issue is due to time and memory spent on serialization and deserialization during file transfers from Pandas to R."
   ]
  }
 ],
 "metadata": {
  "kernelspec": {
   "display_name": "Python [conda env:525_2022]",
   "language": "python",
   "name": "conda-env-525_2022-py"
  },
  "language_info": {
   "codemirror_mode": {
    "name": "ipython",
    "version": 3
   },
   "file_extension": ".py",
   "mimetype": "text/x-python",
   "name": "python",
   "nbconvert_exporter": "python",
   "pygments_lexer": "ipython3",
   "version": "3.8.6"
  }
 },
 "nbformat": 4,
 "nbformat_minor": 5
}
