{
 "cells": [
  {
   "cell_type": "markdown",
   "id": "8bd12f3d-1806-4c9f-b3af-e234b2296e49",
   "metadata": {},
   "source": [
    "# DSCI 525 Group 4 - Data retrieval using figshare API"
   ]
  },
  {
   "cell_type": "markdown",
   "id": "4b3c0811-60f0-45b9-a5b8-c8a11383cb0e",
   "metadata": {},
   "source": [
    "## Import libraries:"
   ]
  },
  {
   "cell_type": "code",
   "execution_count": 1,
   "id": "0ff37e05-879d-4ce7-9f98-20107f88df53",
   "metadata": {},
   "outputs": [],
   "source": [
    "import re\n",
    "import os\n",
    "import sys\n",
    "import glob\n",
    "import zipfile\n",
    "import requests\n",
    "from urllib.request import urlretrieve\n",
    "import json\n",
    "import pandas as pd\n",
    "import numpy as np\n",
    "import matplotlib.pyplot as plt\n",
    "import plotly.express as px\n",
    "import plotly.graph_objects as go\n",
    "from plotly.subplots import make_subplots"
   ]
  },
  {
   "cell_type": "markdown",
   "id": "cea3d470-c509-47b0-951e-eca2e976fd1a",
   "metadata": {},
   "source": [
    "## Specify Meta variables"
   ]
  },
  {
   "cell_type": "code",
   "execution_count": 2,
   "id": "298f9fa5-96c4-492a-ab9b-2965c5b1244f",
   "metadata": {},
   "outputs": [],
   "source": [
    "article_id = 14096681\n",
    "url = f\"https://api.figshare.com/v2/articles/{article_id}\"\n",
    "headers = {\"Content-Type\": \"application/json\"}\n",
    "output_directory = \"../data/\"\n",
    "file_to_download = \"data.zip\"\n",
    "rerun = True"
   ]
  },
  {
   "cell_type": "markdown",
   "id": "993388f2-00b3-4873-bb39-0709c1ae5082",
   "metadata": {},
   "source": [
    "## List of files available for download"
   ]
  },
  {
   "cell_type": "code",
   "execution_count": 3,
   "id": "c74834df-1442-4e91-812e-e9aa48294127",
   "metadata": {},
   "outputs": [
    {
     "name": "stdout",
     "output_type": "stream",
     "text": [
      "CPU times: total: 328 ms\n",
      "Wall time: 1.24 s\n"
     ]
    },
    {
     "data": {
      "text/plain": [
       "[{'id': 26579150,\n",
       "  'name': 'daily_rainfall_2014.png',\n",
       "  'size': 58863,\n",
       "  'is_link_only': False,\n",
       "  'download_url': 'https://ndownloader.figshare.com/files/26579150',\n",
       "  'supplied_md5': 'fd32a2ffde300a31f8d63b1825d47e5e',\n",
       "  'computed_md5': 'fd32a2ffde300a31f8d63b1825d47e5e'},\n",
       " {'id': 26579171,\n",
       "  'name': 'environment.yml',\n",
       "  'size': 192,\n",
       "  'is_link_only': False,\n",
       "  'download_url': 'https://ndownloader.figshare.com/files/26579171',\n",
       "  'supplied_md5': '060b2020017eed93a1ee7dd8c65b2f34',\n",
       "  'computed_md5': '060b2020017eed93a1ee7dd8c65b2f34'},\n",
       " {'id': 26586554,\n",
       "  'name': 'README.md',\n",
       "  'size': 5422,\n",
       "  'is_link_only': False,\n",
       "  'download_url': 'https://ndownloader.figshare.com/files/26586554',\n",
       "  'supplied_md5': '61858c6cc0e6a6d6663a7e4c75bbd88c',\n",
       "  'computed_md5': '61858c6cc0e6a6d6663a7e4c75bbd88c'},\n",
       " {'id': 26766812,\n",
       "  'name': 'data.zip',\n",
       "  'size': 814041183,\n",
       "  'is_link_only': False,\n",
       "  'download_url': 'https://ndownloader.figshare.com/files/26766812',\n",
       "  'supplied_md5': 'b517383f76e77bd03755a63a8ff83ee9',\n",
       "  'computed_md5': 'b517383f76e77bd03755a63a8ff83ee9'},\n",
       " {'id': 26766815,\n",
       "  'name': 'get_data.py',\n",
       "  'size': 4113,\n",
       "  'is_link_only': False,\n",
       "  'download_url': 'https://ndownloader.figshare.com/files/26766815',\n",
       "  'supplied_md5': '7829028495fd9dec9680ea013474afa6',\n",
       "  'computed_md5': '7829028495fd9dec9680ea013474afa6'}]"
      ]
     },
     "execution_count": 3,
     "metadata": {},
     "output_type": "execute_result"
    }
   ],
   "source": [
    "%%time\n",
    "response = requests.request(\"GET\", url, headers=headers)\n",
    "data = json.loads(response.text)\n",
    "files = data[\"files\"]\n",
    "files"
   ]
  },
  {
   "cell_type": "markdown",
   "id": "e6f2eb6b-0370-4931-b480-7ae41a43f52e",
   "metadata": {},
   "source": [
    "## Download specified file"
   ]
  },
  {
   "cell_type": "code",
   "execution_count": 4,
   "id": "5f091669-0b3b-45d9-b908-74c061b15915",
   "metadata": {},
   "outputs": [
    {
     "name": "stdout",
     "output_type": "stream",
     "text": [
      "data.zip is already exists!\n",
      "CPU times: total: 0 ns\n",
      "Wall time: 0 ns\n"
     ]
    }
   ],
   "source": [
    "%%time\n",
    "if os.path.exists(f\"{output_directory}/{file_to_download}\"):\n",
    "    print(\"data.zip is already exists!\")\n",
    "else:\n",
    "    files_to_dl = [\"data.zip\"]\n",
    "\n",
    "    for file in files:\n",
    "        if file[\"name\"] in files_to_dl:\n",
    "            os.makedirs(output_directory, exist_ok=True)\n",
    "            urlretrieve(file[\"download_url\"], output_directory + file[\"name\"])"
   ]
  },
  {
   "cell_type": "markdown",
   "id": "be7b63cb-02ab-41e0-b251-d56d354029b3",
   "metadata": {},
   "source": [
    "## Unzip downloaded file"
   ]
  },
  {
   "cell_type": "code",
   "execution_count": 5,
   "id": "8aec9bac-eed7-48e1-af18-95d16fc87b02",
   "metadata": {},
   "outputs": [
    {
     "name": "stdout",
     "output_type": "stream",
     "text": [
      "CPU times: total: 14.6 s\n",
      "Wall time: 14.8 s\n"
     ]
    }
   ],
   "source": [
    "%%time\n",
    "if rerun:\n",
    "    with zipfile.ZipFile(os.path.join(output_directory, file_to_download), 'r') as f:\n",
    "        f.extractall(output_directory)\n",
    "else:\n",
    "    print(\"Some CSV files already exists, nothing is extraced. Please check if files in data directory are correct.\")"
   ]
  },
  {
   "cell_type": "markdown",
   "id": "c182bcc8-2439-400d-8520-8dec8c4fe1da",
   "metadata": {},
   "source": [
    "## 4. Combining data CSVs\n",
    "rubric={correctness:10,reasoning:10}"
   ]
  },
  {
   "cell_type": "markdown",
   "id": "dd08b73f-d45d-4c57-8174-f20a161a430c",
   "metadata": {},
   "source": [
    "1. Combine data CSVs into a single CSV using pandas.\n",
    "\n",
    "2. When combining the CSV files, add an extra column called \"model\" that identifies the model. Tip 1: you can get this column populated from the file name, eg: for file name \"SAM0-UNICON_daily_rainfall_NSW.csv\", the model name is SAM0-UNICON Tip 2: Remember how we added year when we combined airline CSVs. Tip 3: You can use regex generator.\n",
    "\n",
    "Note: There is a file called observed_daily_rainfall_SYD.csv in the data folder that you downloaded. Make sure you exclude this file (programmatically or just take out that file from folder) before you combine CSVs. We will use this file in our next milestone.\n",
    "\n",
    "3. Compare run times on different machines within your team and summarize your observations."
   ]
  },
  {
   "cell_type": "code",
   "execution_count": 6,
   "id": "3591fce9-f7ef-4baf-8ae4-4b737872ef0b",
   "metadata": {},
   "outputs": [],
   "source": [
    "#%%time\n",
    "#files = glob.glob(f'{output_directory}/*.csv')\n",
    "#files = [f for f in files if f.find(\"observed_daily_rainfall_SYD.csv\")==-1 and f.find(\"combined_data.csv\")==-1]\n",
    "\n",
    "#df = pd.concat((pd.read_csv(file, index_col=0, parse_dates=True).assign(model=re.findall(r'(?<=\\\\)(.*)(?=_daily)', file)[0])\n",
    "#                for file in files))\n",
    "#print(df.shape)"
   ]
  },
  {
   "cell_type": "code",
   "execution_count": 7,
   "id": "d1259ca2-dd56-40b8-9f91-d36fb9855201",
   "metadata": {},
   "outputs": [
    {
     "name": "stdout",
     "output_type": "stream",
     "text": [
      "Processing ../data\\ACCESS-CM2_daily_rainfall_NSW.csv \t total 1932840 rows, \t 1 out of 27 files.\n",
      "Processing ../data\\ACCESS-ESM1-5_daily_rainfall_NSW.csv \t total 1610700 rows, \t 2 out of 27 files.\n",
      "Processing ../data\\AWI-ESM-1-1-LR_daily_rainfall_NSW.csv \t total 966420 rows, \t 3 out of 27 files.\n",
      "Processing ../data\\BCC-CSM2-MR_daily_rainfall_NSW.csv \t total 3035340 rows, \t 4 out of 27 files.\n",
      "Processing ../data\\BCC-ESM1_daily_rainfall_NSW.csv \t total 551880 rows, \t 5 out of 27 files.\n",
      "Processing ../data\\CanESM5_daily_rainfall_NSW.csv \t total 551880 rows, \t 6 out of 27 files.\n",
      "Processing ../data\\CMCC-CM2-HR4_daily_rainfall_NSW.csv \t total 3541230 rows, \t 7 out of 27 files.\n",
      "Processing ../data\\CMCC-CM2-SR5_daily_rainfall_NSW.csv \t total 3541230 rows, \t 8 out of 27 files.\n",
      "Processing ../data\\CMCC-ESM2_daily_rainfall_NSW.csv \t total 3541230 rows, \t 9 out of 27 files.\n",
      "Processing ../data\\EC-Earth3-Veg-LR_daily_rainfall_NSW.csv \t total 3037320 rows, \t 10 out of 27 files.\n",
      "Processing ../data\\FGOALS-f3-L_daily_rainfall_NSW.csv \t total 3219300 rows, \t 11 out of 27 files.\n",
      "Processing ../data\\FGOALS-g3_daily_rainfall_NSW.csv \t total 1287720 rows, \t 12 out of 27 files.\n",
      "Processing ../data\\GFDL-CM4_daily_rainfall_NSW.csv \t total 3219300 rows, \t 13 out of 27 files.\n",
      "Processing ../data\\GFDL-ESM4_daily_rainfall_NSW.csv \t total 3219300 rows, \t 14 out of 27 files.\n",
      "Processing ../data\\INM-CM4-8_daily_rainfall_NSW.csv \t total 1609650 rows, \t 15 out of 27 files.\n",
      "Processing ../data\\INM-CM5-0_daily_rainfall_NSW.csv \t total 1609650 rows, \t 16 out of 27 files.\n",
      "Processing ../data\\KIOST-ESM_daily_rainfall_NSW.csv \t total 1287720 rows, \t 17 out of 27 files.\n",
      "Processing ../data\\MIROC6_daily_rainfall_NSW.csv \t total 2070900 rows, \t 18 out of 27 files.\n",
      "Processing ../data\\MPI-ESM-1-2-HAM_daily_rainfall_NSW.csv \t total 966420 rows, \t 19 out of 27 files.\n",
      "Processing ../data\\MPI-ESM1-2-HR_daily_rainfall_NSW.csv \t total 5154240 rows, \t 20 out of 27 files.\n",
      "Processing ../data\\MPI-ESM1-2-LR_daily_rainfall_NSW.csv \t total 966420 rows, \t 21 out of 27 files.\n",
      "Processing ../data\\MRI-ESM2-0_daily_rainfall_NSW.csv \t total 3037320 rows, \t 22 out of 27 files.\n",
      "Processing ../data\\NESM3_daily_rainfall_NSW.csv \t total 966420 rows, \t 23 out of 27 files.\n",
      "Processing ../data\\NorESM2-LM_daily_rainfall_NSW.csv \t total 919800 rows, \t 24 out of 27 files.\n",
      "Processing ../data\\NorESM2-MM_daily_rainfall_NSW.csv \t total 3541230 rows, \t 25 out of 27 files.\n",
      "Processing ../data\\SAM0-UNICON_daily_rainfall_NSW.csv \t total 3541153 rows, \t 26 out of 27 files.\n",
      "Processing ../data\\TaiESM1_daily_rainfall_NSW.csv \t total 3541230 rows, \t 27 out of 27 files.\n",
      "\n",
      "Total rows: 62467843.\n",
      "\n",
      "CPU times: total: 6min 28s\n",
      "Wall time: 6min 28s\n"
     ]
    }
   ],
   "source": [
    "%%time\n",
    "\n",
    "if rerun:\n",
    "    files = glob.glob(f'{output_directory}/*.csv')\n",
    "    files = [f for f in files if f.find(\"observed_daily_rainfall_SYD.csv\")==-1 and f.find(\"combined_data.csv\")==-1]\n",
    "    i = 1\n",
    "    records = 0\n",
    "\n",
    "    for file in files:\n",
    "        df = pd.read_csv(file, index_col=0, parse_dates=True).assign(model=re.findall(r'(?<=\\\\)(.*)(?=_daily)', file)[0])\n",
    "        print(f\"Processing {file} \\t total {len(df)} rows, \\t {i} out of {len(files)} files.\")\n",
    "        records += len(df)\n",
    "\n",
    "        if i == 1:\n",
    "            df.to_csv(f\"{output_directory}/combined_data.csv\")\n",
    "        else:\n",
    "            df.to_csv(f'{output_directory}/combined_data.csv', mode='a', header=False)\n",
    "\n",
    "        i+=1\n",
    "    print(\"\")\n",
    "    print(f\"Total rows: {records}.\") #62467843 rows\n",
    "    print(\"\")"
   ]
  },
  {
   "cell_type": "markdown",
   "id": "a78d7038-bd7e-4d56-be70-85bc26e5c4a5",
   "metadata": {},
   "source": [
    "## Compare results:\n",
    "\n",
    "| Team Member          | Operating System | RAM (GB) | Processor                 | Is SSD | Time taken |\n",
    "| -------------------- | ---------------- | -------- | ------------------------- | ------ | ---------- |\n",
    "| Anahita Einolghozati | ???????????????? | ???????? | ????????????????????????? | ?????? | ?????????? |\n",
    "| Luke Collins         | ???????????????? | ???????? | ????????????????????????? | ?????? | ?????????? |\n",
    "| Zihan Zhou           | ???????????????? | ???????? | ????????????????????????? | ?????? | ?????????? |\n",
    "| Steven Lio           | Windows 10 x64   | 1x16     | AMD Ryzen 7 5800H 3.20GHz | Yes    | 6 mins 28s |"
   ]
  },
  {
   "cell_type": "code",
   "execution_count": 8,
   "id": "766a3ac6-fa24-4ac3-9068-7943a49c4df0",
   "metadata": {},
   "outputs": [
    {
     "name": "stdout",
     "output_type": "stream",
     "text": [
      "5.7G\t../data/combined_data.csv\n"
     ]
    }
   ],
   "source": [
    "%%sh\n",
    "du -sh \"../data/combined_data.csv\""
   ]
  },
  {
   "cell_type": "markdown",
   "id": "1d30f15d-baa0-4797-bb39-76ad5ab7cc8e",
   "metadata": {},
   "source": [
    "## 5. Load the combined CSV to memory and perform a simple EDA\n",
    "rubric={correctness:10,reasoning:10}"
   ]
  },
  {
   "cell_type": "markdown",
   "id": "5dd06729-bb8b-4433-8ddd-349e09a246ef",
   "metadata": {},
   "source": [
    "1. Investigate at least two of the following approaches to reduce memory usage while performing the EDA (e.g., value_counts).\n",
    "\n",
    "- Changing dtype of your data\n",
    "- Load just columns what we want\n",
    "- Loading in chunks\n",
    "- Dask\n",
    "2. Compare run times on different machines within your team and summarize your observations."
   ]
  },
  {
   "cell_type": "markdown",
   "id": "628b04ed-4b5e-4b94-b7d0-72ed6926dcb2",
   "metadata": {},
   "source": [
    "## Benchmark: Load everything"
   ]
  },
  {
   "cell_type": "code",
   "execution_count": 9,
   "id": "9dea8609-8c57-4dcb-8dba-7da77423cc76",
   "metadata": {},
   "outputs": [
    {
     "name": "stdout",
     "output_type": "stream",
     "text": [
      "\n",
      "<class 'pandas.core.frame.DataFrame'>\n",
      "DatetimeIndex: 62467843 entries, 1889-01-01 12:00:00 to 2014-12-31 12:00:00\n",
      "Data columns (total 6 columns):\n",
      " #   Column         Dtype  \n",
      "---  ------         -----  \n",
      " 0   lat_min        float64\n",
      " 1   lat_max        float64\n",
      " 2   lon_min        float64\n",
      " 3   lon_max        float64\n",
      " 4   rain (mm/day)  float64\n",
      " 5   model          object \n",
      "dtypes: float64(5), object(1)\n",
      "memory usage: 6.7 GB\n",
      "None\n",
      "\n",
      "MPI-ESM1-2-HR       5154240\n",
      "TaiESM1             3541230\n",
      "NorESM2-MM          3541230\n",
      "CMCC-CM2-HR4        3541230\n",
      "CMCC-CM2-SR5        3541230\n",
      "CMCC-ESM2           3541230\n",
      "SAM0-UNICON         3541153\n",
      "FGOALS-f3-L         3219300\n",
      "GFDL-CM4            3219300\n",
      "GFDL-ESM4           3219300\n",
      "EC-Earth3-Veg-LR    3037320\n",
      "MRI-ESM2-0          3037320\n",
      "BCC-CSM2-MR         3035340\n",
      "MIROC6              2070900\n",
      "ACCESS-CM2          1932840\n",
      "ACCESS-ESM1-5       1610700\n",
      "INM-CM5-0           1609650\n",
      "INM-CM4-8           1609650\n",
      "KIOST-ESM           1287720\n",
      "FGOALS-g3           1287720\n",
      "MPI-ESM1-2-LR        966420\n",
      "NESM3                966420\n",
      "AWI-ESM-1-1-LR       966420\n",
      "MPI-ESM-1-2-HAM      966420\n",
      "NorESM2-LM           919800\n",
      "BCC-ESM1             551880\n",
      "CanESM5              551880\n",
      "Name: model, dtype: int64\n",
      "CPU times: total: 1min 29s\n",
      "Wall time: 1min 29s\n"
     ]
    }
   ],
   "source": [
    "%%time\n",
    "\n",
    "df = pd.read_csv(f\"{output_directory}/combined_data.csv\",index_col=0, parse_dates=True)\n",
    "print(\"\")\n",
    "print(df.info(memory_usage='deep'))\n",
    "print(\"\")\n",
    "print(df[\"model\"].value_counts())"
   ]
  },
  {
   "cell_type": "markdown",
   "id": "3c9b0157-c654-4a05-bf6f-9d3a889b1f73",
   "metadata": {},
   "source": [
    "## Compare results:\n",
    "\n",
    "| Team Member          | Operating System | RAM (GB) | Processor                 | Is SSD | Time taken |\n",
    "| -------------------- | ---------------- | -------- | ------------------------- | ------ | ---------- |\n",
    "| Anahita Einolghozati | ???????????????? | ???????? | ????????????????????????? | ?????? | ?????????? |\n",
    "| Luke Collins         | ???????????????? | ???????? | ????????????????????????? | ?????? | ?????????? |\n",
    "| Zihan Zhou           | ???????????????? | ???????? | ????????????????????????? | ?????? | ?????????? |\n",
    "| Steven Lio           | Windows 10 x64   | 1x16     | AMD Ryzen 7 5800H 3.20GHz | Yes    | 1 mins 29s |"
   ]
  },
  {
   "cell_type": "markdown",
   "id": "a4ded4fb-4284-4ca7-8ebe-701ccb29822e",
   "metadata": {},
   "source": [
    "## Change dtype of data"
   ]
  },
  {
   "cell_type": "code",
   "execution_count": 10,
   "id": "92044da3-6a27-47f4-b9b1-81de867366d1",
   "metadata": {},
   "outputs": [
    {
     "name": "stdout",
     "output_type": "stream",
     "text": [
      "\n",
      "<class 'pandas.core.frame.DataFrame'>\n",
      "DatetimeIndex: 62467843 entries, 1889-01-01 12:00:00 to 2014-12-31 12:00:00\n",
      "Data columns (total 6 columns):\n",
      " #   Column         Dtype  \n",
      "---  ------         -----  \n",
      " 0   lat_min        float16\n",
      " 1   lat_max        float16\n",
      " 2   lon_min        float16\n",
      " 3   lon_max        float16\n",
      " 4   rain (mm/day)  float32\n",
      " 5   model          object \n",
      "dtypes: float16(4), float32(1), object(1)\n",
      "memory usage: 5.1 GB\n",
      "None\n",
      "\n",
      "MPI-ESM1-2-HR       5154240\n",
      "TaiESM1             3541230\n",
      "NorESM2-MM          3541230\n",
      "CMCC-CM2-HR4        3541230\n",
      "CMCC-CM2-SR5        3541230\n",
      "CMCC-ESM2           3541230\n",
      "SAM0-UNICON         3541153\n",
      "FGOALS-f3-L         3219300\n",
      "GFDL-CM4            3219300\n",
      "GFDL-ESM4           3219300\n",
      "EC-Earth3-Veg-LR    3037320\n",
      "MRI-ESM2-0          3037320\n",
      "BCC-CSM2-MR         3035340\n",
      "MIROC6              2070900\n",
      "ACCESS-CM2          1932840\n",
      "ACCESS-ESM1-5       1610700\n",
      "INM-CM5-0           1609650\n",
      "INM-CM4-8           1609650\n",
      "KIOST-ESM           1287720\n",
      "FGOALS-g3           1287720\n",
      "MPI-ESM1-2-LR        966420\n",
      "NESM3                966420\n",
      "AWI-ESM-1-1-LR       966420\n",
      "MPI-ESM-1-2-HAM      966420\n",
      "NorESM2-LM           919800\n",
      "BCC-ESM1             551880\n",
      "CanESM5              551880\n",
      "Name: model, dtype: int64\n",
      "CPU times: total: 1min 27s\n",
      "Wall time: 1min 27s\n"
     ]
    }
   ],
   "source": [
    "%%time\n",
    "\n",
    "dtypes = {'lat_min': 'float16', \n",
    "          'lat_max': 'float16', \n",
    "          'lon_min': 'float16', \n",
    "          'lon_max': 'float16',\n",
    "          'rain (mm/day)':'float32',\n",
    "          'model':'str'}\n",
    "df = pd.read_csv(f\"{output_directory}/combined_data.csv\",index_col=0, parse_dates=True, dtype=dtypes)\n",
    "print(\"\")\n",
    "print(df.info(memory_usage='deep'))\n",
    "print(\"\")\n",
    "print(df[\"model\"].value_counts())"
   ]
  },
  {
   "cell_type": "markdown",
   "id": "5f0ec15b-ffbe-40a8-af70-e36dcb35fff1",
   "metadata": {},
   "source": [
    "## Compare results:\n",
    "\n",
    "| Team Member          | Operating System | RAM (GB) | Processor                 | Is SSD | Time taken |\n",
    "| -------------------- | ---------------- | -------- | ------------------------- | ------ | ---------- |\n",
    "| Anahita Einolghozati | ???????????????? | ???????? | ????????????????????????? | ?????? | ?????????? |\n",
    "| Luke Collins         | ???????????????? | ???????? | ????????????????????????? | ?????? | ?????????? |\n",
    "| Zihan Zhou           | ???????????????? | ???????? | ????????????????????????? | ?????? | ?????????? |\n",
    "| Steven Lio           | Windows 10 x64   | 1x16     | AMD Ryzen 7 5800H 3.20GHz | Yes    | 1 mins 27s |"
   ]
  },
  {
   "cell_type": "markdown",
   "id": "a06874d0-9911-4462-9dad-7ed076d14d6f",
   "metadata": {},
   "source": [
    "## Load only minimum columns"
   ]
  },
  {
   "cell_type": "code",
   "execution_count": 11,
   "id": "f7cc9b4e-969b-4208-881e-f1cca660bc55",
   "metadata": {},
   "outputs": [
    {
     "name": "stdout",
     "output_type": "stream",
     "text": [
      "\n",
      "<class 'pandas.core.frame.DataFrame'>\n",
      "DatetimeIndex: 62467843 entries, 1889-01-01 12:00:00 to 2014-12-31 12:00:00\n",
      "Data columns (total 2 columns):\n",
      " #   Column         Dtype  \n",
      "---  ------         -----  \n",
      " 0   rain (mm/day)  float64\n",
      " 1   model          object \n",
      "dtypes: float64(1), object(1)\n",
      "memory usage: 4.9 GB\n",
      "None\n",
      "\n",
      "MPI-ESM1-2-HR       5154240\n",
      "TaiESM1             3541230\n",
      "NorESM2-MM          3541230\n",
      "CMCC-CM2-HR4        3541230\n",
      "CMCC-CM2-SR5        3541230\n",
      "CMCC-ESM2           3541230\n",
      "SAM0-UNICON         3541153\n",
      "FGOALS-f3-L         3219300\n",
      "GFDL-CM4            3219300\n",
      "GFDL-ESM4           3219300\n",
      "EC-Earth3-Veg-LR    3037320\n",
      "MRI-ESM2-0          3037320\n",
      "BCC-CSM2-MR         3035340\n",
      "MIROC6              2070900\n",
      "ACCESS-CM2          1932840\n",
      "ACCESS-ESM1-5       1610700\n",
      "INM-CM5-0           1609650\n",
      "INM-CM4-8           1609650\n",
      "KIOST-ESM           1287720\n",
      "FGOALS-g3           1287720\n",
      "MPI-ESM1-2-LR        966420\n",
      "NESM3                966420\n",
      "AWI-ESM-1-1-LR       966420\n",
      "MPI-ESM-1-2-HAM      966420\n",
      "NorESM2-LM           919800\n",
      "BCC-ESM1             551880\n",
      "CanESM5              551880\n",
      "Name: model, dtype: int64\n",
      "CPU times: total: 1min 18s\n",
      "Wall time: 1min 18s\n"
     ]
    }
   ],
   "source": [
    "%%time\n",
    "\n",
    "use_cols = [\"time\",\"rain (mm/day)\",\"model\"]\n",
    "df = pd.read_csv(f\"{output_directory}/combined_data.csv\",index_col=0, parse_dates=True, usecols=use_cols)\n",
    "print(\"\")\n",
    "print(df.info(memory_usage='deep'))\n",
    "print(\"\")\n",
    "print(df[\"model\"].value_counts())"
   ]
  },
  {
   "cell_type": "markdown",
   "id": "9b53bd28-331a-4280-96e2-030a0c35a38b",
   "metadata": {},
   "source": [
    "## Compare results:\n",
    "\n",
    "| Team Member          | Operating System | RAM (GB) | Processor                 | Is SSD | Time taken |\n",
    "| -------------------- | ---------------- | -------- | ------------------------- | ------ | ---------- |\n",
    "| Anahita Einolghozati | ???????????????? | ???????? | ????????????????????????? | ?????? | ?????????? |\n",
    "| Luke Collins         | ???????????????? | ???????? | ????????????????????????? | ?????? | ?????????? |\n",
    "| Zihan Zhou           | ???????????????? | ???????? | ????????????????????????? | ?????? | ?????????? |\n",
    "| Steven Lio           | Windows 10 x64   | 1x16     | AMD Ryzen 7 5800H 3.20GHz | Yes    | 1 mins 18s |"
   ]
  },
  {
   "cell_type": "markdown",
   "id": "da027b8d-8662-40c7-a4d6-f0a48e365956",
   "metadata": {},
   "source": [
    "## Load only minimum columns and specify column types"
   ]
  },
  {
   "cell_type": "code",
   "execution_count": 12,
   "id": "2943b0dd-1cbd-4f91-a408-37670a450efa",
   "metadata": {},
   "outputs": [
    {
     "name": "stdout",
     "output_type": "stream",
     "text": [
      "\n",
      "<class 'pandas.core.frame.DataFrame'>\n",
      "DatetimeIndex: 62467843 entries, 1889-01-01 12:00:00 to 2014-12-31 12:00:00\n",
      "Data columns (total 2 columns):\n",
      " #   Column         Dtype  \n",
      "---  ------         -----  \n",
      " 0   rain (mm/day)  float32\n",
      " 1   model          object \n",
      "dtypes: float32(1), object(1)\n",
      "memory usage: 4.6 GB\n",
      "None\n",
      "\n",
      "MPI-ESM1-2-HR       5154240\n",
      "TaiESM1             3541230\n",
      "NorESM2-MM          3541230\n",
      "CMCC-CM2-HR4        3541230\n",
      "CMCC-CM2-SR5        3541230\n",
      "CMCC-ESM2           3541230\n",
      "SAM0-UNICON         3541153\n",
      "FGOALS-f3-L         3219300\n",
      "GFDL-CM4            3219300\n",
      "GFDL-ESM4           3219300\n",
      "EC-Earth3-Veg-LR    3037320\n",
      "MRI-ESM2-0          3037320\n",
      "BCC-CSM2-MR         3035340\n",
      "MIROC6              2070900\n",
      "ACCESS-CM2          1932840\n",
      "ACCESS-ESM1-5       1610700\n",
      "INM-CM5-0           1609650\n",
      "INM-CM4-8           1609650\n",
      "KIOST-ESM           1287720\n",
      "FGOALS-g3           1287720\n",
      "MPI-ESM1-2-LR        966420\n",
      "NESM3                966420\n",
      "AWI-ESM-1-1-LR       966420\n",
      "MPI-ESM-1-2-HAM      966420\n",
      "NorESM2-LM           919800\n",
      "BCC-ESM1             551880\n",
      "CanESM5              551880\n",
      "Name: model, dtype: int64\n",
      "CPU times: total: 1min 20s\n",
      "Wall time: 1min 20s\n"
     ]
    }
   ],
   "source": [
    "%%time\n",
    "\n",
    "use_cols = [\"time\",\"rain (mm/day)\",\"model\"]\n",
    "dtypes = {'rain (mm/day)':'float32',\n",
    "          'model':'str'}\n",
    "df = pd.read_csv(f\"{output_directory}/combined_data.csv\",index_col=0, parse_dates=True, usecols=use_cols,dtype=dtypes)\n",
    "print(\"\")\n",
    "print(df.info(memory_usage='deep'))\n",
    "print(\"\")\n",
    "print(df[\"model\"].value_counts())"
   ]
  },
  {
   "cell_type": "markdown",
   "id": "b8515708-143a-4c30-83c6-ac82bb7352d8",
   "metadata": {},
   "source": [
    "## Compare results:\n",
    "\n",
    "| Team Member          | Operating System | RAM (GB) | Processor                 | Is SSD | Time taken |\n",
    "| -------------------- | ---------------- | -------- | ------------------------- | ------ | ---------- |\n",
    "| Anahita Einolghozati | ???????????????? | ???????? | ????????????????????????? | ?????? | ?????????? |\n",
    "| Luke Collins         | ???????????????? | ???????? | ????????????????????????? | ?????? | ?????????? |\n",
    "| Zihan Zhou           | ???????????????? | ???????? | ????????????????????????? | ?????? | ?????????? |\n",
    "| Steven Lio           | Windows 10 x64   | 1x16     | AMD Ryzen 7 5800H 3.20GHz | Yes    | 1 mins 28s |"
   ]
  },
  {
   "cell_type": "markdown",
   "id": "3bdaacae-07ab-46ec-b51b-9c06b2a75fc1",
   "metadata": {},
   "source": [
    "## Loading in chunks"
   ]
  },
  {
   "cell_type": "code",
   "execution_count": 13,
   "id": "6ebbca27-3962-4f5f-a319-54c074c33eeb",
   "metadata": {},
   "outputs": [
    {
     "name": "stdout",
     "output_type": "stream",
     "text": [
      "ACCESS-CM2          1932840\n",
      "ACCESS-ESM1-5       1610700\n",
      "AWI-ESM-1-1-LR       966420\n",
      "BCC-CSM2-MR         3035340\n",
      "BCC-ESM1             551880\n",
      "CMCC-CM2-HR4        3541230\n",
      "CMCC-CM2-SR5        3541230\n",
      "CMCC-ESM2           3541230\n",
      "CanESM5              551880\n",
      "EC-Earth3-Veg-LR    3037320\n",
      "FGOALS-f3-L         3219300\n",
      "FGOALS-g3           1287720\n",
      "GFDL-CM4            3219300\n",
      "GFDL-ESM4           3219300\n",
      "INM-CM4-8           1609650\n",
      "INM-CM5-0           1609650\n",
      "KIOST-ESM           1287720\n",
      "MIROC6              2070900\n",
      "MPI-ESM-1-2-HAM      966420\n",
      "MPI-ESM1-2-HR       5154240\n",
      "MPI-ESM1-2-LR        966420\n",
      "MRI-ESM2-0          3037320\n",
      "NESM3                966420\n",
      "NorESM2-LM           919800\n",
      "NorESM2-MM          3541230\n",
      "SAM0-UNICON         3541153\n",
      "TaiESM1             3541230\n",
      "dtype: int32\n",
      "CPU times: total: 56.2 s\n",
      "Wall time: 56.3 s\n"
     ]
    }
   ],
   "source": [
    "%%time\n",
    "counts = pd.Series(dtype=int)\n",
    "for chunk in pd.read_csv(f\"{output_directory}/combined_data.csv\", chunksize=1_000_000):\n",
    "    counts = counts.add(chunk[\"model\"].value_counts(), fill_value=0)\n",
    "print(counts.astype(int))"
   ]
  },
  {
   "cell_type": "markdown",
   "id": "49f8750f-d4e6-4f35-97fb-50e8430ded31",
   "metadata": {},
   "source": [
    "## Compare results:\n",
    "\n",
    "| Team Member          | Operating System | RAM (GB) | Processor                 | Is SSD | Time taken |\n",
    "| -------------------- | ---------------- | -------- | ------------------------- | ------ | ---------- |\n",
    "| Anahita Einolghozati | ???????????????? | ???????? | ????????????????????????? | ?????? | ?????????? |\n",
    "| Luke Collins         | ???????????????? | ???????? | ????????????????????????? | ?????? | ?????????? |\n",
    "| Zihan Zhou           | ???????????????? | ???????? | ????????????????????????? | ?????? | ?????????? |\n",
    "| Steven Lio           | Windows 10 x64   | 1x16     | AMD Ryzen 7 5800H 3.20GHz | Yes    | 56s        |"
   ]
  },
  {
   "cell_type": "markdown",
   "id": "9a0dad3c-7fc8-4933-8a74-2ee7f160a881",
   "metadata": {},
   "source": [
    "## 6. Perform a simple EDA in R\n",
    "rubric={correctness:15,reasoning:10}"
   ]
  },
  {
   "cell_type": "markdown",
   "id": "34839f26-f5f5-4e5d-a79c-5a7d57cfd19e",
   "metadata": {},
   "source": [
    "1. Pick an approach to transfer the dataframe from python to R.\n",
    "- Parquet file\n",
    "- Feather file\n",
    "- Pandas exchange\n",
    "- Arrow exchange\n",
    "2. Discuss why you chose this approach over others."
   ]
  }
 ],
 "metadata": {
  "kernelspec": {
   "display_name": "Python 3 (ipykernel)",
   "language": "python",
   "name": "python3"
  },
  "language_info": {
   "codemirror_mode": {
    "name": "ipython",
    "version": 3
   },
   "file_extension": ".py",
   "mimetype": "text/x-python",
   "name": "python",
   "nbconvert_exporter": "python",
   "pygments_lexer": "ipython3",
   "version": "3.9.10"
  }
 },
 "nbformat": 4,
 "nbformat_minor": 5
}
