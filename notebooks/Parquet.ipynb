{
 "cells": [
  {
   "cell_type": "code",
   "execution_count": 1,
   "id": "b710acae-f02d-46e5-9751-5dd6169c17ed",
   "metadata": {},
   "outputs": [],
   "source": [
    "import pandas as pd"
   ]
  },
  {
   "cell_type": "code",
   "execution_count": 2,
   "id": "21a13e49-8ce3-4d3d-8171-14b492d2cebf",
   "metadata": {},
   "outputs": [],
   "source": [
    "output_directory = \"../data\"\n",
    "rerun = False"
   ]
  },
  {
   "cell_type": "markdown",
   "id": "e551a270-bf61-4fa7-9719-06c86d0f8802",
   "metadata": {},
   "source": [
    "Read in csv to Python"
   ]
  },
  {
   "cell_type": "code",
   "execution_count": 3,
   "id": "7e3778f7-14ad-4de5-a463-75b48cf8e94c",
   "metadata": {},
   "outputs": [],
   "source": [
    "if rerun:\n",
    "    df = pd.read_csv(f\"{output_directory}/combined_data.csv\",index_col=0, parse_dates=True)"
   ]
  },
  {
   "cell_type": "markdown",
   "id": "8b87d4bd-12be-4050-84b4-341e52d413d8",
   "metadata": {},
   "source": [
    "Save to parquet (as one file)"
   ]
  },
  {
   "cell_type": "code",
   "execution_count": 4,
   "id": "83952c70-fff7-4db4-a345-71e396a526ac",
   "metadata": {},
   "outputs": [
    {
     "name": "stdout",
     "output_type": "stream",
     "text": [
      "CPU times: total: 0 ns\n",
      "Wall time: 0 ns\n"
     ]
    }
   ],
   "source": [
    "%%time\n",
    "\n",
    "if rerun:\n",
    "    df.to_parquet(f\"{output_directory}/combined_data.parquet\")"
   ]
  },
  {
   "cell_type": "markdown",
   "id": "73dcd523-299c-41b2-ae04-406a81b493d8",
   "metadata": {},
   "source": [
    "Save to parquet (partition by model)"
   ]
  },
  {
   "cell_type": "code",
   "execution_count": 5,
   "id": "557a1739-107a-4ddd-aa8d-a81f1e24f70a",
   "metadata": {},
   "outputs": [
    {
     "name": "stdout",
     "output_type": "stream",
     "text": [
      "CPU times: total: 0 ns\n",
      "Wall time: 0 ns\n"
     ]
    }
   ],
   "source": [
    "%%time\n",
    "\n",
    "if rerun:\n",
    "    df.to_parquet(f\"{output_directory}/combined_data_partition.parquet\",partition_cols=['model'])"
   ]
  },
  {
   "cell_type": "markdown",
   "id": "43c1f6c9-d2f2-4f49-90e4-a4214e80c0d6",
   "metadata": {},
   "source": [
    "Compare file sizes:"
   ]
  },
  {
   "cell_type": "code",
   "execution_count": 6,
   "id": "21f28fef-81c2-4497-b8af-21a654b26493",
   "metadata": {},
   "outputs": [
    {
     "name": "stdout",
     "output_type": "stream",
     "text": [
      "5.7G\t../data/combined_data.csv\n",
      "542M\t../data/combined_data.parquet\n",
      "550M\t../data/combined_data_partition.parquet\n"
     ]
    }
   ],
   "source": [
    "%%sh\n",
    "du -sh \"../data/combined_data.csv\"\n",
    "du -sh \"../data/combined_data.parquet\"\n",
    "du -sh \"../data/combined_data_partition.parquet\""
   ]
  },
  {
   "cell_type": "markdown",
   "id": "02cd2c80-fbe2-41e3-91a4-8a1781efc30b",
   "metadata": {},
   "source": [
    "Time Python read parquet file and count:"
   ]
  },
  {
   "cell_type": "code",
   "execution_count": 7,
   "id": "e33dcc09-e0cf-4b2d-9d9a-495f30b57cef",
   "metadata": {},
   "outputs": [
    {
     "name": "stdout",
     "output_type": "stream",
     "text": [
      "MPI-ESM1-2-HR       5154240\n",
      "TaiESM1             3541230\n",
      "NorESM2-MM          3541230\n",
      "CMCC-CM2-HR4        3541230\n",
      "CMCC-CM2-SR5        3541230\n",
      "CMCC-ESM2           3541230\n",
      "SAM0-UNICON         3541153\n",
      "FGOALS-f3-L         3219300\n",
      "GFDL-CM4            3219300\n",
      "GFDL-ESM4           3219300\n",
      "EC-Earth3-Veg-LR    3037320\n",
      "MRI-ESM2-0          3037320\n",
      "BCC-CSM2-MR         3035340\n",
      "MIROC6              2070900\n",
      "ACCESS-CM2          1932840\n",
      "ACCESS-ESM1-5       1610700\n",
      "INM-CM5-0           1609650\n",
      "INM-CM4-8           1609650\n",
      "KIOST-ESM           1287720\n",
      "FGOALS-g3           1287720\n",
      "MPI-ESM1-2-LR        966420\n",
      "NESM3                966420\n",
      "AWI-ESM-1-1-LR       966420\n",
      "MPI-ESM-1-2-HAM      966420\n",
      "NorESM2-LM           919800\n",
      "BCC-ESM1             551880\n",
      "CanESM5              551880\n",
      "Name: model, dtype: int64\n",
      "CPU times: total: 19.8 s\n",
      "Wall time: 7.39 s\n"
     ]
    }
   ],
   "source": [
    "%%time\n",
    "\n",
    "df = pd.read_parquet(f\"{output_directory}/combined_data.parquet\")\n",
    "print(df[\"model\"].value_counts())"
   ]
  },
  {
   "cell_type": "markdown",
   "id": "828080c7-8da5-4b14-8def-b50bc3baf1ba",
   "metadata": {},
   "source": [
    "Time R read parquet file and count:"
   ]
  },
  {
   "cell_type": "code",
   "execution_count": 8,
   "id": "403eb39f-f236-430b-860a-faba611f51d7",
   "metadata": {},
   "outputs": [
    {
     "name": "stderr",
     "output_type": "stream",
     "text": [
      "C:\\ProgramData\\Miniconda3\\lib\\site-packages\\rpy2\\robjects\\packages.py:366: UserWarning: The symbol 'quartz' is not in this R namespace/package.\n",
      "  warnings.warn(\n"
     ]
    }
   ],
   "source": [
    "%load_ext rpy2.ipython"
   ]
  },
  {
   "cell_type": "code",
   "execution_count": 9,
   "id": "4f1be53d-00db-48e0-9aea-78f51560a1cb",
   "metadata": {},
   "outputs": [
    {
     "name": "stdout",
     "output_type": "stream",
     "text": [
      "\u001b[38;5;246m# A tibble: 27 x 2\u001b[39m\n",
      "   model                cnt\n",
      "   \u001b[3m\u001b[38;5;246m<chr>\u001b[39m\u001b[23m              \u001b[3m\u001b[38;5;246m<int>\u001b[39m\u001b[23m\n",
      "\u001b[38;5;250m 1\u001b[39m ACCESS-CM2       1\u001b[4m9\u001b[24m\u001b[4m3\u001b[24m\u001b[4m2\u001b[24m840\n",
      "\u001b[38;5;250m 2\u001b[39m ACCESS-ESM1-5    1\u001b[4m6\u001b[24m\u001b[4m1\u001b[24m\u001b[4m0\u001b[24m700\n",
      "\u001b[38;5;250m 3\u001b[39m AWI-ESM-1-1-LR    \u001b[4m9\u001b[24m\u001b[4m6\u001b[24m\u001b[4m6\u001b[24m420\n",
      "\u001b[38;5;250m 4\u001b[39m BCC-CSM2-MR      3\u001b[4m0\u001b[24m\u001b[4m3\u001b[24m\u001b[4m5\u001b[24m340\n",
      "\u001b[38;5;250m 5\u001b[39m BCC-ESM1          \u001b[4m5\u001b[24m\u001b[4m5\u001b[24m\u001b[4m1\u001b[24m880\n",
      "\u001b[38;5;250m 6\u001b[39m CMCC-CM2-HR4     3\u001b[4m5\u001b[24m\u001b[4m4\u001b[24m\u001b[4m1\u001b[24m230\n",
      "\u001b[38;5;250m 7\u001b[39m CMCC-CM2-SR5     3\u001b[4m5\u001b[24m\u001b[4m4\u001b[24m\u001b[4m1\u001b[24m230\n",
      "\u001b[38;5;250m 8\u001b[39m CMCC-ESM2        3\u001b[4m5\u001b[24m\u001b[4m4\u001b[24m\u001b[4m1\u001b[24m230\n",
      "\u001b[38;5;250m 9\u001b[39m EC-Earth3-Veg-LR 3\u001b[4m0\u001b[24m\u001b[4m3\u001b[24m\u001b[4m7\u001b[24m320\n",
      "\u001b[38;5;250m10\u001b[39m CanESM5           \u001b[4m5\u001b[24m\u001b[4m5\u001b[24m\u001b[4m1\u001b[24m880\n",
      "\u001b[38;5;246m# ... with 17 more rows\u001b[39m\n",
      "CPU times: total: 2.17 s\n",
      "Wall time: 2.18 s\n"
     ]
    }
   ],
   "source": [
    "%%time\n",
    "%%R\n",
    "\n",
    "suppressPackageStartupMessages(library(dplyr,quietly=TRUE))\n",
    "output_directory <- \"../data\"\n",
    "#df <- arrow::read_parquet(paste0(output_directory,\"/\",\"combined_data_partition.parquet\"))\n",
    "df <- arrow::open_dataset(paste0(output_directory,\"/\",\"combined_data_partition.parquet\"), \n",
    "                          format=\"parquet\", \n",
    "                          partitioning=c(\"model\"))\n",
    "df %>%\n",
    "    group_by(model) %>%\n",
    "    summarize(cnt=n()) %>%\n",
    "    ungroup() %>%\n",
    "    collect()"
   ]
  },
  {
   "cell_type": "markdown",
   "id": "e42ffce7-7210-4a34-b4f9-5bc4709a9eb9",
   "metadata": {},
   "source": [
    "## Discussion"
   ]
  },
  {
   "cell_type": "markdown",
   "id": "ba164e89-610b-4a83-a154-af276bd05ae5",
   "metadata": {},
   "source": [
    "- Pandas build in function can write/read to parquet files easily (R with the arrow package)\n",
    "- Parquet file type significantly reduce size in storage (duh) (5.7GB shrink to 542M without partitioning and 550M with partition)\n",
    "    - No partition = slightly smaller in total size\n",
    "    - Partition = slightly more in total size but probably best for I/O since you can choose easily what to read in\n",
    "- Python took significantly more time to read and count rows than R\n",
    "    - could be a pandas vs arrow optimization problem"
   ]
  }
 ],
 "metadata": {
  "kernelspec": {
   "display_name": "Python 3 (ipykernel)",
   "language": "python",
   "name": "python3"
  },
  "language_info": {
   "codemirror_mode": {
    "name": "ipython",
    "version": 3
   },
   "file_extension": ".py",
   "mimetype": "text/x-python",
   "name": "python",
   "nbconvert_exporter": "python",
   "pygments_lexer": "ipython3",
   "version": "3.9.10"
  }
 },
 "nbformat": 4,
 "nbformat_minor": 5
}
