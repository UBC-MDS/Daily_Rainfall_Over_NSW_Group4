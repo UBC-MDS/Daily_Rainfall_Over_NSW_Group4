{
 "cells": [
  {
   "cell_type": "code",
   "execution_count": null,
   "id": "b710acae-f02d-46e5-9751-5dd6169c17ed",
   "metadata": {},
   "outputs": [],
   "source": [
    "import pandas as pd\n",
    "import pyarrow as pa\n",
    "import rpy2_arrow.pyarrow_rarrow as pyra\n",
    "import pyarrow.dataset as ds"
   ]
  },
  {
   "cell_type": "code",
   "execution_count": null,
   "id": "21a13e49-8ce3-4d3d-8171-14b492d2cebf",
   "metadata": {},
   "outputs": [],
   "source": [
    "output_directory = \"../data\""
   ]
  },
  {
   "cell_type": "markdown",
   "id": "73548c71-e876-46d1-8e98-e988819aa087",
   "metadata": {},
   "source": [
    "#### READ IN"
   ]
  },
  {
   "cell_type": "code",
   "execution_count": null,
   "id": "d091e378-fd55-4856-b244-5ac433452836",
   "metadata": {},
   "outputs": [],
   "source": [
    "%%time\n",
    "dataset = ds.dataset(output_directory + \"/combined_data.csv\", format=\"csv\")"
   ]
  },
  {
   "cell_type": "markdown",
   "id": "709f0ce6-e522-46ed-af98-f0bde1a2f730",
   "metadata": {},
   "source": [
    "#### CONVERT TO TABLE"
   ]
  },
  {
   "cell_type": "code",
   "execution_count": null,
   "id": "9872e17d-3859-4eaa-a1ab-12d314c0c0dc",
   "metadata": {},
   "outputs": [],
   "source": [
    "%%time\n",
    "table = dataset.to_table()"
   ]
  },
  {
   "cell_type": "markdown",
   "id": "9e262480-afbc-4ccd-96ac-7a8f51e6034b",
   "metadata": {},
   "source": [
    "#### CONVERT TO R OBJECT IN PYTHON RUNTIME"
   ]
  },
  {
   "cell_type": "code",
   "execution_count": null,
   "id": "4d6a9b7b-569e-4766-8970-b7818f1f0e9d",
   "metadata": {},
   "outputs": [],
   "source": [
    "%%time\n",
    "r_table = pyra.converter.py2rpy(table)"
   ]
  },
  {
   "cell_type": "code",
   "execution_count": null,
   "id": "9588a2c0-fe80-428b-9b20-b2591a2f8904",
   "metadata": {},
   "outputs": [],
   "source": [
    "type(r_table)"
   ]
  },
  {
   "cell_type": "markdown",
   "id": "e551a270-bf61-4fa7-9719-06c86d0f8802",
   "metadata": {},
   "source": [
    "#### WRITE OUT TO ARROW FILE"
   ]
  },
  {
   "cell_type": "code",
   "execution_count": null,
   "id": "7e3778f7-14ad-4de5-a463-75b48cf8e94c",
   "metadata": {},
   "outputs": [],
   "source": [
    "%%time\n",
    "schema = table.schema\n",
    "sink = output_directory + \"/combined_data.arrow\"\n",
    "writer = pa.ipc.new_file(sink, schema)\n",
    "writer.write(table)\n",
    "writer.close()"
   ]
  },
  {
   "cell_type": "markdown",
   "id": "6ca27fc4-224c-400d-89d7-cf597d654f39",
   "metadata": {},
   "source": [
    "#### COMPARE FILE SIZES"
   ]
  },
  {
   "cell_type": "code",
   "execution_count": null,
   "id": "547fe65c-e6d3-452a-9ed5-f732642c55b8",
   "metadata": {},
   "outputs": [],
   "source": [
    "%%sh\n",
    "du -sh \"../data/combined_data.csv\"\n",
    "du -sh \"../data/combined_data.arrow\""
   ]
  },
  {
   "cell_type": "markdown",
   "id": "8b87d4bd-12be-4050-84b4-341e52d413d8",
   "metadata": {},
   "source": [
    "#### READ IN ARROW FILE IN PYTHON RUNTIME AND COUNT MODELS"
   ]
  },
  {
   "cell_type": "code",
   "execution_count": null,
   "id": "83952c70-fff7-4db4-a345-71e396a526ac",
   "metadata": {},
   "outputs": [],
   "source": [
    "%%time\n",
    "with pa.ipc.open_file(sink) as reader: \n",
    "    df = reader.read_all()\n",
    "    \n",
    "print(type(df))"
   ]
  },
  {
   "cell_type": "code",
   "execution_count": null,
   "id": "eb3b543a-8e76-481b-881d-1b95607d18db",
   "metadata": {},
   "outputs": [],
   "source": [
    "%%time\n",
    "df['model'].value_counts();"
   ]
  },
  {
   "cell_type": "markdown",
   "id": "e9d4b860-68ed-46bb-bc85-dc89631e8eef",
   "metadata": {},
   "source": [
    "#### READ IN ARROW FILE IN R RUNTIME"
   ]
  },
  {
   "cell_type": "markdown",
   "id": "b4efdb5c-9cb9-4a11-81da-f3e0d00be85d",
   "metadata": {},
   "source": [
    "Not able to find any documentation or S.O. post or etc. about reading in `.arrow` files in R."
   ]
  },
  {
   "cell_type": "code",
   "execution_count": null,
   "id": "cd2c10a1-77bc-479a-bb9b-3f9e267545a6",
   "metadata": {},
   "outputs": [],
   "source": []
  }
 ],
 "metadata": {
  "kernelspec": {
   "display_name": "Python [conda env:525]",
   "language": "python",
   "name": "conda-env-525-py"
  },
  "language_info": {
   "codemirror_mode": {
    "name": "ipython",
    "version": 3
   },
   "file_extension": ".py",
   "mimetype": "text/x-python",
   "name": "python",
   "nbconvert_exporter": "python",
   "pygments_lexer": "ipython3",
   "version": "3.8.6"
  }
 },
 "nbformat": 4,
 "nbformat_minor": 5
}
